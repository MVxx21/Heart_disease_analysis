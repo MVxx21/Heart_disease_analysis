{
 "cells": [
  {
   "cell_type": "markdown",
   "metadata": {},
   "source": [
    "## Table of content\n",
    "* [A. Import modules](#Import_modules)  \n",
    "* [B. Load data](#Load_data)  \n",
    "* [C. Exploratory Data Analysis - satiscal analysis](#eda)\n",
    "   * [1. Cholesterol level and heart disease](#chol)\n",
    "   * [2. Diabetes spread in US population (in 1988)](#fbs)\n",
    "   * [3. Age and heart disease](#age)\n",
    "   * [4. Maximum heart rate achieved in exercise test and heart disease](#thalach)\n",
    "   * [5. Maximum heart rate during exercise and heart disease](#cp_hd)\n",
    "   * [6. Maximum heart rate during exercise and chest pain](#thalach_cp)\n",
    "  \n",
    "   "
   ]
  },
  {
   "cell_type": "markdown",
   "metadata": {},
   "source": [
    "<a id='Import_modules'></a>"
   ]
  },
  {
   "cell_type": "markdown",
   "metadata": {},
   "source": [
    "## A. Import modules"
   ]
  },
  {
   "cell_type": "code",
   "execution_count": 41,
   "metadata": {},
   "outputs": [],
   "source": [
    "# data manipulation\n",
    "import pandas as pd\n",
    "import numpy as np\n",
    "\n",
    "# visualization\n",
    "import matplotlib.pyplot as plt \n",
    "import seaborn as sns\n",
    "\n",
    "# statistics\n",
    "import scipy.stats as stat\n",
    "import statsmodels.stats.multicomp as multicomp"
   ]
  },
  {
   "cell_type": "markdown",
   "metadata": {},
   "source": [
    "<a id='Load_data'></a>"
   ]
  },
  {
   "cell_type": "markdown",
   "metadata": {},
   "source": [
    "## B. Load data"
   ]
  },
  {
   "cell_type": "markdown",
   "metadata": {},
   "source": [
    "The data are from a sample patients, from 1988, who were evaluated for heart disease at the [Cleveland Clinic Foundation](#https://archive.ics.uci.edu/ml/datasets/Heart+Disease). The data was downloaded from the UCI Machine Learning Repository and then cleaned for analysis by [Code Accademy](#https://www.codecademy.com/). The initial data set include more than 70 attributes. 9 were retained in the cleaned dataset which we will use for this analysis."
   ]
  },
  {
   "cell_type": "code",
   "execution_count": 14,
   "metadata": {},
   "outputs": [],
   "source": [
    "heart = pd.read_csv('heart_disease_2.csv')"
   ]
  },
  {
   "cell_type": "code",
   "execution_count": 15,
   "metadata": {},
   "outputs": [
    {
     "data": {
      "text/html": [
       "<div>\n",
       "<style scoped>\n",
       "    .dataframe tbody tr th:only-of-type {\n",
       "        vertical-align: middle;\n",
       "    }\n",
       "\n",
       "    .dataframe tbody tr th {\n",
       "        vertical-align: top;\n",
       "    }\n",
       "\n",
       "    .dataframe thead th {\n",
       "        text-align: right;\n",
       "    }\n",
       "</style>\n",
       "<table border=\"1\" class=\"dataframe\">\n",
       "  <thead>\n",
       "    <tr style=\"text-align: right;\">\n",
       "      <th></th>\n",
       "      <th>age</th>\n",
       "      <th>sex</th>\n",
       "      <th>trestbps</th>\n",
       "      <th>chol</th>\n",
       "      <th>cp</th>\n",
       "      <th>exang</th>\n",
       "      <th>fbs</th>\n",
       "      <th>thalach</th>\n",
       "      <th>heart_disease</th>\n",
       "    </tr>\n",
       "  </thead>\n",
       "  <tbody>\n",
       "    <tr>\n",
       "      <th>0</th>\n",
       "      <td>63.0</td>\n",
       "      <td>male</td>\n",
       "      <td>145.0</td>\n",
       "      <td>233.0</td>\n",
       "      <td>typical angina</td>\n",
       "      <td>0.0</td>\n",
       "      <td>1.0</td>\n",
       "      <td>150.0</td>\n",
       "      <td>absence</td>\n",
       "    </tr>\n",
       "    <tr>\n",
       "      <th>1</th>\n",
       "      <td>67.0</td>\n",
       "      <td>male</td>\n",
       "      <td>160.0</td>\n",
       "      <td>286.0</td>\n",
       "      <td>asymptomatic</td>\n",
       "      <td>1.0</td>\n",
       "      <td>0.0</td>\n",
       "      <td>108.0</td>\n",
       "      <td>presence</td>\n",
       "    </tr>\n",
       "    <tr>\n",
       "      <th>2</th>\n",
       "      <td>67.0</td>\n",
       "      <td>male</td>\n",
       "      <td>120.0</td>\n",
       "      <td>229.0</td>\n",
       "      <td>asymptomatic</td>\n",
       "      <td>1.0</td>\n",
       "      <td>0.0</td>\n",
       "      <td>129.0</td>\n",
       "      <td>presence</td>\n",
       "    </tr>\n",
       "    <tr>\n",
       "      <th>3</th>\n",
       "      <td>37.0</td>\n",
       "      <td>male</td>\n",
       "      <td>130.0</td>\n",
       "      <td>250.0</td>\n",
       "      <td>non-anginal pain</td>\n",
       "      <td>0.0</td>\n",
       "      <td>0.0</td>\n",
       "      <td>187.0</td>\n",
       "      <td>absence</td>\n",
       "    </tr>\n",
       "    <tr>\n",
       "      <th>4</th>\n",
       "      <td>41.0</td>\n",
       "      <td>female</td>\n",
       "      <td>130.0</td>\n",
       "      <td>204.0</td>\n",
       "      <td>atypical angina</td>\n",
       "      <td>0.0</td>\n",
       "      <td>0.0</td>\n",
       "      <td>172.0</td>\n",
       "      <td>absence</td>\n",
       "    </tr>\n",
       "  </tbody>\n",
       "</table>\n",
       "</div>"
      ],
      "text/plain": [
       "    age     sex  trestbps   chol                cp  exang  fbs  thalach  \\\n",
       "0  63.0    male     145.0  233.0    typical angina    0.0  1.0    150.0   \n",
       "1  67.0    male     160.0  286.0      asymptomatic    1.0  0.0    108.0   \n",
       "2  67.0    male     120.0  229.0      asymptomatic    1.0  0.0    129.0   \n",
       "3  37.0    male     130.0  250.0  non-anginal pain    0.0  0.0    187.0   \n",
       "4  41.0  female     130.0  204.0   atypical angina    0.0  0.0    172.0   \n",
       "\n",
       "  heart_disease  \n",
       "0       absence  \n",
       "1      presence  \n",
       "2      presence  \n",
       "3       absence  \n",
       "4       absence  "
      ]
     },
     "execution_count": 15,
     "metadata": {},
     "output_type": "execute_result"
    }
   ],
   "source": [
    "heart.head()"
   ]
  },
  {
   "cell_type": "markdown",
   "metadata": {},
   "source": [
    "* `age`: age in years\n",
    "* `sex`: sex; 'male' or 'female'\n",
    "* `trestbps`: resting blood pressure in mm Hg\n",
    "* `chol`: serum cholesterol in mg/dl\n",
    "* `cp`: chest pain type ('typical angina', 'atypical angina', 'non-anginal pain', or 'asymptomatic')\n",
    "* `exang`: whether the patient experiences exercise-induced angina (1: yes; 0: no)\n",
    "* `fbs`: whether the patient’s fasting blood sugar is >120 mg/dl (1: yes; 0: no)\n",
    "* `thalach`: maximum heart rate achieved in exercise test\n",
    "* `heart_disease`: whether the patient is found to have heart disease ('presence': diagnosed with heart disease; 'absence': no heart disease)"
   ]
  },
  {
   "cell_type": "markdown",
   "metadata": {},
   "source": [
    "### Create subsets for sick / non-sick patients"
   ]
  },
  {
   "cell_type": "code",
   "execution_count": 16,
   "metadata": {},
   "outputs": [],
   "source": [
    "yes_hd = heart[heart.heart_disease == 'presence']\n",
    "no_hd = heart[heart.heart_disease == 'absence']"
   ]
  },
  {
   "cell_type": "code",
   "execution_count": 17,
   "metadata": {},
   "outputs": [
    {
     "name": "stdout",
     "output_type": "stream",
     "text": [
      "<class 'pandas.core.frame.DataFrame'>\n",
      "Int64Index: 139 entries, 1 to 301\n",
      "Data columns (total 9 columns):\n",
      " #   Column         Non-Null Count  Dtype  \n",
      "---  ------         --------------  -----  \n",
      " 0   age            139 non-null    float64\n",
      " 1   sex            139 non-null    object \n",
      " 2   trestbps       139 non-null    float64\n",
      " 3   chol           139 non-null    float64\n",
      " 4   cp             139 non-null    object \n",
      " 5   exang          139 non-null    float64\n",
      " 6   fbs            139 non-null    float64\n",
      " 7   thalach        139 non-null    float64\n",
      " 8   heart_disease  139 non-null    object \n",
      "dtypes: float64(6), object(3)\n",
      "memory usage: 10.9+ KB\n"
     ]
    }
   ],
   "source": [
    "yes_hd.info()"
   ]
  },
  {
   "cell_type": "code",
   "execution_count": 18,
   "metadata": {},
   "outputs": [
    {
     "name": "stdout",
     "output_type": "stream",
     "text": [
      "<class 'pandas.core.frame.DataFrame'>\n",
      "Int64Index: 164 entries, 0 to 302\n",
      "Data columns (total 9 columns):\n",
      " #   Column         Non-Null Count  Dtype  \n",
      "---  ------         --------------  -----  \n",
      " 0   age            164 non-null    float64\n",
      " 1   sex            164 non-null    object \n",
      " 2   trestbps       164 non-null    float64\n",
      " 3   chol           164 non-null    float64\n",
      " 4   cp             164 non-null    object \n",
      " 5   exang          164 non-null    float64\n",
      " 6   fbs            164 non-null    float64\n",
      " 7   thalach        164 non-null    float64\n",
      " 8   heart_disease  164 non-null    object \n",
      "dtypes: float64(6), object(3)\n",
      "memory usage: 12.8+ KB\n"
     ]
    }
   ],
   "source": [
    "no_hd.info()"
   ]
  },
  {
   "cell_type": "markdown",
   "metadata": {},
   "source": [
    "<a id='eda'></a>"
   ]
  },
  {
   "cell_type": "markdown",
   "metadata": {},
   "source": [
    "## C. Exploratory Data Analysis - satiscal analysis"
   ]
  },
  {
   "cell_type": "markdown",
   "metadata": {},
   "source": [
    "Goal is to better understand heart disease through potential association with other conditions and or health observations. Additionally this will develop an intuition about the potential drivers (and thus possible predictors) for heart diseases. We can list several associations/links which would make sense for that purpose:\n",
    " \n",
    "* cholesterol and heart disease\n",
    "* knowing that heart disease risk is increase by diabete, the proportion of the population with diabete\n",
    "* age and heart disease\n",
    "* heart rate during exercise and heart disease\n",
    "* chest pain and heart disease\n",
    "* chest pain and heart rate during exercise"
   ]
  },
  {
   "cell_type": "markdown",
   "metadata": {},
   "source": [
    "These associations can be translated into the following questions:\n",
    "1. Do people with/without heart disease diagnosed have high cholesterol levels?\n",
    "2. Does the US population actually include 8% of people with diabetes?\n",
    "3. Is age associated with wheter or not a patient will be diagnosed with heart disease?\n",
    "4. Is there a link between maximum heart rate during exercise and heart disease diagnosis?\n",
    "5. Is there a link between the type of chest pain and the diagnosis of heart disease ?\n",
    "6. Is there a difference in average maximum heart rate during exercise between the different chest pain types?"
   ]
  },
  {
   "cell_type": "markdown",
   "metadata": {},
   "source": [
    "<a id='chol'></a>"
   ]
  },
  {
   "cell_type": "markdown",
   "metadata": {},
   "source": [
    "### 1. Cholesterol level and heart disease"
   ]
  },
  {
   "cell_type": "markdown",
   "metadata": {},
   "source": [
    "Total cholesterol over 240 mg/dl is considered “high” (and therefore unhealthy)"
   ]
  },
  {
   "cell_type": "markdown",
   "metadata": {},
   "source": [
    "`chol` indicate the level of cholesterol in mg/dl"
   ]
  },
  {
   "cell_type": "markdown",
   "metadata": {},
   "source": [
    "Initial question is '*Do people with/without heart disease diagnosed have high cholesterol levels?*', which we can further break down into:\n",
    "1. Do people **with heart disease** have high cholesterol levels (greater than or equal to 240 mg/dl) on average? \n",
    "2. Do people **without heart disease** have high cholesterol levels (greater than or equal to 240 mg/dl) on average?  "
   ]
  },
  {
   "cell_type": "code",
   "execution_count": 100,
   "metadata": {},
   "outputs": [],
   "source": [
    "chol_hd = yes_hd.chol\n",
    "chol_nhd = no_hd.chol"
   ]
  },
  {
   "cell_type": "code",
   "execution_count": 102,
   "metadata": {},
   "outputs": [
    {
     "name": "stdout",
     "output_type": "stream",
     "text": [
      "Average cholesterol level of patients with heart disease: 251.47 mg/dl\n",
      "Average cholesterol level of patients without heart disease: 242.64 mg/dl\n"
     ]
    }
   ],
   "source": [
    "chol_hd_mean = np.mean(chol_hd)\n",
    "chol_nhd_mean = np.mean(chol_no_hd)\n",
    "print('Average cholesterol level of patients with heart disease: {chol_hd_mean} mg/dl'.format(\n",
    "    chol_hd_mean=round(chol_hd_mean,2)))\n",
    "print('Average cholesterol level of patients without heart disease: {chol_nhd_mean} mg/dl'.format(\n",
    "    chol_nhd_mean=round(chol_nhd_mean,2)))"
   ]
  },
  {
   "cell_type": "code",
   "execution_count": 116,
   "metadata": {},
   "outputs": [
    {
     "data": {
      "image/png": "[encoded data removed]",
      "text/plain": [
       "<Figure size 1080x360 with 2 Axes>"
      ]
     },
     "metadata": {
      "needs_background": "light"
     },
     "output_type": "display_data"
    }
   ],
   "source": [
    "plt.figure(figsize=(15,5))\n",
    "plt.subplot(121)\n",
    "sns.boxplot(data=heart, x='heart_disease', y='chol')\n",
    "plt.title('Cholesterol level per patient with/without heart disease\\n ')\n",
    "\n",
    "plt.subplot(122)\n",
    "sns.boxplot(data=heart, x='heart_disease', y='chol')\n",
    "plt.ylim(min(heart.chol)-10, 365)\n",
    "plt.title('Cholesterol level per patient with/without heart disease\\n(outliers removed)')\n",
    "plt.show()"
   ]
  },
  {
   "cell_type": "markdown",
   "metadata": {},
   "source": [
    "Visual inspection indicates a deviation in cholesterol level between the two groups, but it is difficult to assess if it is important (or significant)."
   ]
  },
  {
   "cell_type": "code",
   "execution_count": 71,
   "metadata": {},
   "outputs": [
    {
     "name": "stdout",
     "output_type": "stream",
     "text": [
      "1. Do people with heart disease have high cholesterol (greater than 240 mg/dl)      \n",
      "\n",
      "H0: people with hd have an average chol level of 240 mg/dl       \n",
      "H1: people with hd have an average chol level greater than 240 mg/dl       \n",
      "\n",
      "Parameters:       \n",
      "- 1-sided mean comp. test       \n",
      "- alpha = 0.05 \n",
      "\n",
      "t stat = 2.7338, crit. val = 1.6560, p = 0.0035\n",
      "\u001b[1mWe reject H0. People with hd have an avg chol level greater than 240 mg/dl.\u001b[0m\n",
      "_____________________________\n",
      "\n",
      "2. Do people without heart disease have high cholesterol (greater than 240 mg/dl)      \n",
      "\n",
      "H0: people without hd have an average chol level of 240 mg/dl       \n",
      "H1: people without hd have an average chol level greater than 240 mg/dl       \n",
      "\n",
      "Parameters:       \n",
      "- 1-sided mean comp. test       \n",
      "- alpha = 0.05 \n",
      "\n",
      "t stat = 0.6325, crit. val = 1.6543, p = 0.2640\n",
      "\u001b[1mWe cannot reject H0. People without hd have an avg chol level of 240 mg/dl.\u001b[0m\n"
     ]
    }
   ],
   "source": [
    "print('1. Do people with heart disease have high cholesterol (greater than 240 mg/dl)\\\n",
    "      \\n\\nH0: people with hd have an average chol level of 240 mg/dl \\\n",
    "      \\nH1: people with hd have an average chol level greater than 240 mg/dl \\\n",
    "      \\n\\nParameters: \\\n",
    "      \\n- 1-sided mean comp. test \\\n",
    "      \\n- alpha = 0.05 \\n')\n",
    "\n",
    "alpha = 0.05\n",
    "dof = len(chol_hd) - 1\n",
    "t, p = stat.ttest_1samp(chol_hd, 240)\n",
    "# ttest_1sampl is a 2-sided test by default and argmuent 'alternative' of the function does not work here\n",
    "# So I divide p by 2\n",
    "p = p/2 \n",
    "crit = stat.t.ppf(1 - alpha, dof)\n",
    "\n",
    "print('t stat = %.4f, crit. val = %.4f, p = %.4f' % (t, crit, p))\n",
    "if t > crit and p < alpha:\n",
    "    print('\\033[1mWe reject H0. People with hd have an avg chol level greater than 240 mg/dl.\\033[0m')\n",
    "else:\n",
    "    print('\\033[1mWe cannot reject H0. People with hd have an avg chol level of 240 mg/dl.\\033[0m')\n",
    "\n",
    "\n",
    "print('_____________________________\\n')\n",
    "    \n",
    "\n",
    "print('2. Do people without heart disease have high cholesterol (greater than 240 mg/dl)\\\n",
    "      \\n\\nH0: people without hd have an average chol level of 240 mg/dl \\\n",
    "      \\nH1: people without hd have an average chol level greater than 240 mg/dl \\\n",
    "      \\n\\nParameters: \\\n",
    "      \\n- 1-sided mean comp. test \\\n",
    "      \\n- alpha = 0.05 \\n')\n",
    "\n",
    "alpha = 0.05\n",
    "dof = len(chol_nhd) - 1\n",
    "t, p = stat.ttest_1samp(chol_nhd, 240)\n",
    "# ttest_1sampl is a 2-sided test by default and argmuent 'alternative' of the function does not work here\n",
    "# So I divide p by 2\n",
    "p = p/2 \n",
    "crit = stat.t.ppf(1 - alpha, dof)\n",
    "\n",
    "print('t stat = %.4f, crit. val = %.4f, p = %.4f' % (t, crit, p))\n",
    "if t > crit and p < alpha:\n",
    "    print('\\033[1mWe reject H0. People with hd have an avg chol level greater than 240 mg/dl.\\033[0m')\n",
    "else:\n",
    "    print('\\033[1mWe cannot reject H0. People without hd have an avg chol level of 240 mg/dl.\\033[0m')"
   ]
  },
  {
   "cell_type": "markdown",
   "metadata": {},
   "source": [
    "<a id='fbs' ></a>"
   ]
  },
  {
   "cell_type": "markdown",
   "metadata": {},
   "source": [
    "### 2. Diabetes spread in US population (in 1988)"
   ]
  },
  {
   "cell_type": "markdown",
   "metadata": {},
   "source": [
    "By some estimates, about 8% of the U.S. population had diabetes (diagnosed or undiagnosed) in 1988 when this data was collected. While there are multiple tests that contribute to a diabetes diagnosis, fasting blood sugar levels greater than 120 mg/dl can be indicative of diabetes (or at least, pre-diabetes).  \n",
    "(text from [Code accademy](#https://www.codecademy.com/))"
   ]
  },
  {
   "cell_type": "markdown",
   "metadata": {},
   "source": [
    "`fbs` column of dataset indicates whether or not a patient’s fasting blood sugar was greater than 120 mg/dl:  \n",
    "* 1: fbs > 120 mg/dl\n",
    "* 0: fbs <= 120 mg/dl"
   ]
  },
  {
   "cell_type": "markdown",
   "metadata": {},
   "source": [
    "Initial question was '*Does the US population include more than 8% of people with diabetes?*' which we can, for statiscal testing, translate into:\n",
    "* Is the sample representative/coming from the population where 8% of the individuals have and fbs level greater than 120 mg/dl?"
   ]
  },
  {
   "cell_type": "code",
   "execution_count": 84,
   "metadata": {},
   "outputs": [],
   "source": [
    "num_patients = len(heart)\n",
    "num_highfbs = len(heart[heart.fbs == 1])\n",
    "\n",
    "xptd_num_highfbs = num_patients*0.08"
   ]
  },
  {
   "cell_type": "code",
   "execution_count": 158,
   "metadata": {},
   "outputs": [
    {
     "name": "stdout",
     "output_type": "stream",
     "text": [
      "1. Is the sample coming from a pop where 8% of the individuals have and fbs level greater than 120 mg/dl?\n",
      "\n",
      "Sample includes 303 observations. 45 patients have a high fbs level.\n",
      "We expect to see approximately 24 observations if the sample was representative.\n",
      "\n",
      "H0: this sample comes from a pop. where 8% of the people have an fbs > 120 mg/dl       \n",
      "H1: this sample comes from a pop. where more than 8% of the people have an fbs > 120       \n",
      "\n",
      "Parameters: \n",
      "- 1-sided binomial test \n",
      "- alpha = 0.05\n",
      "\n",
      "p = 0.0000\n",
      "\u001b[1mWe reject H0. The sample comes from a pop where there are more than 8% of the people with an fbs greater than 120.\n"
     ]
    }
   ],
   "source": [
    "print('1. Is the sample coming from a pop where 8% of the individuals have and fbs level greater than 120 mg/dl?\\n')\n",
    "print(f'Sample includes {num_patients} observations. {num_highfbs} patients have a high fbs level.')\n",
    "print(f'We expect to see approximately {int(round(xptd_num_highfbs,0))} observations if the sample was representative.')\n",
    "      \n",
    "print('\\nH0: this sample comes from a pop. where 8% of the people have an fbs > 120 mg/dl\\\n",
    "       \\nH1: this sample comes from a pop. where more than 8% of the people have an fbs > 120\\\n",
    "       \\n\\nParameters: \\n- 1-sided binomial test \\n- alpha = 0.05\\n')\n",
    "\n",
    "alpha = 0.05\n",
    "pval = stat.binom_test(x=num_highfbs_patients ,n=num_patients , p=0.08 , alternative='greater')\n",
    "print('p = %.4f' % (pval))\n",
    "if pval < alpha:\n",
    "    print('\\033[1mWe reject H0. \\\n",
    "The sample comes from a pop where there are more than 8% of the people with an fbs greater than 120.\\033[0m')\n",
    "else:\n",
    "    print('\\033[1mWe cannot reject H0. \\\n",
    "The sample comes from a pop where there are 8% of the people with an fbs greater than 120. \\\n",
    "The high number of people from the sample with an fbs greater than 120 is due to sampling hazard.\\033[0m')"
   ]
  },
  {
   "cell_type": "markdown",
   "metadata": {},
   "source": [
    "<a id='age'></a>"
   ]
  },
  {
   "cell_type": "markdown",
   "metadata": {},
   "source": [
    "### 3. Age and heart disease"
   ]
  },
  {
   "cell_type": "markdown",
   "metadata": {},
   "source": [
    "Is age associated with wheter or not a patient will be diagnosed with heart disease?"
   ]
  },
  {
   "cell_type": "code",
   "execution_count": 241,
   "metadata": {},
   "outputs": [],
   "source": [
    "age_hd = heart.age[heart.heart_disease == 'presence']\n",
    "age_nhd = heart.age[heart.heart_disease == 'absence']"
   ]
  },
  {
   "cell_type": "code",
   "execution_count": null,
   "metadata": {},
   "outputs": [],
   "source": [
    "plt.figure(figsize=(15, 5))\n",
    "plt.subplot(121)\n",
    "sns.boxplot(data=heart, x='heart_disease', y='age')\n",
    "plt.title('Age distribution of patient with/without heart disease')\n",
    "\n",
    "plt.subplot(122)\n",
    "sns.histplot(data=age_nhd, alpha=0.5, label='No hd', color='blue')\n",
    "sns.histplot(data=age_hd, alpha=0.5, label='hd', color='orange')\n",
    "plt.legend()\n",
    "plt.title('Age distribution of patient with/without heart disease')\n",
    "plt.show()"
   ]
  },
  {
   "cell_type": "markdown",
   "metadata": {},
   "source": [
    "Visual inspection points to a difference between ages of patients diasgnosed with heart disease and ages of patients without heat disease."
   ]
  },
  {
   "cell_type": "code",
   "execution_count": null,
   "metadata": {},
   "outputs": [],
   "source": [
    "print('H0: mean age with hd == mean without hd \\\n",
    "         \\nH1: mean age with hd =\\= mean age without hd\\\n",
    "         \\n\\nParameters:\\\n",
    "         \\n- two-sided ttest (we could directly run a 1-sided lower tail ttest thanks to the visual inspection)\\\n",
    "         \\n- alpha = 0.05\\n')\n",
    "\n",
    "alpha = 0.05\n",
    "dof_age = len(age_hd) + len(age_no_hd) - 2\n",
    "t_age, p_age = stat.ttest_ind(age_hd, age_no_hd)\n",
    "crit_age = stat.t.ppf(1-alpha/2, dof_age)\n",
    "\n",
    "print('t stat = %.4f, crit. val = %.4f, p = %.4f' % (t_age, crit_age, p_age))\n",
    "if t_age > 0:\n",
    "    if t_age > crit_age and p_age < alpha:\n",
    "        print('\\033[1mWe reject H0. \\\n",
    "The average age of people with hd is not equal to the average age of people without hd.\\033[0m')\n",
    "    else:\n",
    "        print('\\033[1mWe cannot reject H0.\\033[0m')\n",
    "else:\n",
    "    if t_age < -crit_age and p_age < alpha:\n",
    "        print('\\033[1mThe average age of people with hd is not equal to the average age of people without hd.\\033[0m')\n",
    "    else:\n",
    "        print('\\033[1mWe cannot reject H0.\\033[0m')"
   ]
  },
  {
   "cell_type": "markdown",
   "metadata": {},
   "source": [
    "The statistic of the t-test is positive, and greater than the critical value for the right side of the probability distribution (1.968). We can even further conclude that the patients with heart disease have a higher average age than the patients without heart disease."
   ]
  },
  {
   "cell_type": "markdown",
   "metadata": {},
   "source": [
    "<a id='thalach'><a>"
   ]
  },
  {
   "cell_type": "markdown",
   "metadata": {},
   "source": [
    "### 4. Maximum heart rate achieved in exercise test and heart disease"
   ]
  },
  {
   "cell_type": "markdown",
   "metadata": {},
   "source": [
    "Is there a link between maximum heart rate during exercise and heart disease diagnosis?"
   ]
  },
  {
   "cell_type": "markdown",
   "metadata": {},
   "source": [
    "`Thalach` gives us the highest heart rate that the patient achieved during this test."
   ]
  },
  {
   "cell_type": "code",
   "execution_count": 132,
   "metadata": {},
   "outputs": [],
   "source": [
    "thalach_hd = heart.thalach[heart.heart_disease == 'presence']\n",
    "thalach_nhd = heart.thalach[heart.heart_disease == 'absence']"
   ]
  },
  {
   "cell_type": "code",
   "execution_count": 143,
   "metadata": {},
   "outputs": [
    {
     "data": {
      "image/png": "[encoded data removed]",
      "text/plain": [
       "<Figure size 1080x360 with 2 Axes>"
      ]
     },
     "metadata": {
      "needs_background": "light"
     },
     "output_type": "display_data"
    }
   ],
   "source": [
    "plt.figure(figsize=(15, 5))\n",
    "plt.subplot(121)\n",
    "sns.boxplot(data=heart, x='heart_disease', y='thalach')\n",
    "plt.title('Maximum heart rate during exercise\\nper patient with/without heart disease')\n",
    "\n",
    "plt.subplot(122)\n",
    "sns.histplot(data=thalach_nhd, alpha=0.5, label='No hd', color='blue')\n",
    "sns.histplot(data=thalach_hd, alpha=0.5, label='hd', color='orange')\n",
    "plt.legend()\n",
    "plt.title('Distribution of maximum heart rate during exercise\\nper patient with/without heart disease')\n",
    "plt.show()"
   ]
  },
  {
   "cell_type": "markdown",
   "metadata": {},
   "source": [
    "Visual inspection points to an important difference in maximum heart rate during exercise between patients with heart disease and those without heart disease. Patients without heart disease have higher maximum heart rate during exercise in general."
   ]
  },
  {
   "cell_type": "code",
   "execution_count": 188,
   "metadata": {},
   "outputs": [
    {
     "name": "stdout",
     "output_type": "stream",
     "text": [
      "H0: mean thalach_hd == mean thalach_nhd         \n",
      "H1: mean thalach_hd =\\= mean thalach_nhd        \n",
      "\n",
      "Parameters:         \n",
      "- two-sided ttest (we could directly run a 1-sided lower tail ttest thanks to the visual inspection)        \n",
      "- alpha = 0.05\n",
      "\n",
      "t stat = -7.9636, crit. val = 1.9679, p = 0.0000\n",
      "\u001b[1mWe reject H0. People with hd have a different thalach than people without hd.\u001b[0m\n"
     ]
    }
   ],
   "source": [
    "print('H0: mean thalach_hd == mean thalach_nhd \\\n",
    "        \\nH1: mean thalach_hd =\\= mean thalach_nhd\\\n",
    "        \\n\\nParameters: \\\n",
    "        \\n- two-sided ttest (we could directly run a 1-sided lower tail ttest thanks to the visual inspection)\\\n",
    "        \\n- alpha = 0.05\\n')\n",
    "\n",
    "alpha = 0.05\n",
    "dof = len(thalach_hd) + len(thalach_nhd) - 2\n",
    "t, p = stat.ttest_ind(thalach_hd, thalach_no_hd)\n",
    "crit = stat.t.ppf(1-(alpha/2), dof)\n",
    "\n",
    "print('t stat = %.4f, crit. val = %.4f, p = %.4f' % (t, crit, p))\n",
    "if t > 0:\n",
    "    if t > crit and p < alpha:\n",
    "        print('\\033[1mWe reject H0. People with hd have a different thalach than people without hd')\n",
    "    else:\n",
    "        print('\\033[1mWe cannot reject HO. People with hd and people without hd have a similar thalach')\n",
    "\n",
    "else:\n",
    "    if t < -crit and p < alpha:\n",
    "        print('\\033[1mWe reject H0. People with hd have a different thalach than people without hd.\\033[0m')\n",
    "    else:\n",
    "        print('\\033[1mWe cannot reject HO. People with hd and people without hd have a similar thalach.\\033[0m')\n"
   ]
  },
  {
   "cell_type": "markdown",
   "metadata": {},
   "source": [
    "The statistic of the t-test is negative, and lower than the critical value for the left side of the probability distribution (-1.968). We can even further conclude that the patients with heart disease have a lower average maximum heart rate during exercise than the patients without heart disease."
   ]
  },
  {
   "cell_type": "markdown",
   "metadata": {},
   "source": [
    "<a id='cp_hd'></a>"
   ]
  },
  {
   "cell_type": "markdown",
   "metadata": {},
   "source": [
    "### 5. Chest pain and heart disease"
   ]
  },
  {
   "cell_type": "markdown",
   "metadata": {},
   "source": [
    "Is there a link between the type of chest pain and the diagnosis of heart disease ?"
   ]
  },
  {
   "cell_type": "code",
   "execution_count": 243,
   "metadata": {},
   "outputs": [
    {
     "data": {
      "text/html": [
       "<div>\n",
       "<style scoped>\n",
       "    .dataframe tbody tr th:only-of-type {\n",
       "        vertical-align: middle;\n",
       "    }\n",
       "\n",
       "    .dataframe tbody tr th {\n",
       "        vertical-align: top;\n",
       "    }\n",
       "\n",
       "    .dataframe thead th {\n",
       "        text-align: right;\n",
       "    }\n",
       "</style>\n",
       "<table border=\"1\" class=\"dataframe\">\n",
       "  <thead>\n",
       "    <tr style=\"text-align: right;\">\n",
       "      <th>cp</th>\n",
       "      <th>asymptomatic</th>\n",
       "      <th>atypical angina</th>\n",
       "      <th>non-anginal pain</th>\n",
       "      <th>typical angina</th>\n",
       "    </tr>\n",
       "    <tr>\n",
       "      <th>heart_disease</th>\n",
       "      <th></th>\n",
       "      <th></th>\n",
       "      <th></th>\n",
       "      <th></th>\n",
       "    </tr>\n",
       "  </thead>\n",
       "  <tbody>\n",
       "    <tr>\n",
       "      <th>absence</th>\n",
       "      <td>39</td>\n",
       "      <td>41</td>\n",
       "      <td>68</td>\n",
       "      <td>16</td>\n",
       "    </tr>\n",
       "    <tr>\n",
       "      <th>presence</th>\n",
       "      <td>105</td>\n",
       "      <td>9</td>\n",
       "      <td>18</td>\n",
       "      <td>7</td>\n",
       "    </tr>\n",
       "  </tbody>\n",
       "</table>\n",
       "</div>"
      ],
      "text/plain": [
       "cp             asymptomatic  atypical angina  non-anginal pain  typical angina\n",
       "heart_disease                                                                 \n",
       "absence                  39               41                68              16\n",
       "presence                105                9                18               7"
      ]
     },
     "execution_count": 243,
     "metadata": {},
     "output_type": "execute_result"
    }
   ],
   "source": [
    "xtab = pd.crosstab(heart.heart_disease, heart.cp)\n",
    "xtab"
   ]
  },
  {
   "cell_type": "code",
   "execution_count": 244,
   "metadata": {},
   "outputs": [
    {
     "name": "stdout",
     "output_type": "stream",
     "text": [
      "H0: no link between the kind of chest pain and heart disease presence        \n",
      "H1: link between the kind of chest pain and heart disease presence        \n",
      "\n",
      "Parameters:        \n",
      "- Chi2 test        \n",
      "- alpha = 0.05\n",
      "\n",
      "chi2 stat = 81.8158, crit. val = 7.8147, p = 0.0000\n",
      "\u001b[1mWe reject H0. There is a link between the type of cp and heart disease presence.\u001b[0m\n"
     ]
    }
   ],
   "source": [
    "print('H0: no link between the kind of chest pain and heart disease presence\\\n",
    "        \\nH1: link between the kind of chest pain and heart disease presence\\\n",
    "        \\n\\nParameters:\\\n",
    "        \\n- Chi2 test\\\n",
    "        \\n- alpha = 0.05\\n')\n",
    "\n",
    "alpha = 0.05\n",
    "\n",
    "chi2, p, dof, expected = stat.chi2_contingency(xtab)\n",
    "crit = stat.chi2.ppf(1 - alpha, dof)\n",
    "\n",
    "print(f'chi2 stat = %.4f, crit. val = %.4f, p = %.4f' % (chi2, crit, p))\n",
    "\n",
    "if chi2 > critical_v and pval_chi2 < alpha:\n",
    "    print('\\033[1mWe reject H0. There is a link between the type of cp and heart disease presence.\\033[0m')\n",
    "else:\n",
    "    print('We fail to reject H0.')"
   ]
  },
  {
   "cell_type": "markdown",
   "metadata": {},
   "source": [
    "<a id='thalach_cp'></a>"
   ]
  },
  {
   "cell_type": "markdown",
   "metadata": {},
   "source": [
    "### 6. Maximum heart rate during exercise and chest pain"
   ]
  },
  {
   "cell_type": "markdown",
   "metadata": {},
   "source": [
    "Is there a difference in average maximum heart rate during exercise between the different chest pain types?"
   ]
  },
  {
   "cell_type": "code",
   "execution_count": 169,
   "metadata": {},
   "outputs": [],
   "source": [
    "th_typ = heart.thalach[heart.cp == 'typical angina']\n",
    "th_asy = heart.thalach[heart.cp == 'asymptomatic']\n",
    "th_nan = heart.thalach[heart.cp == 'non-anginal pain']\n",
    "th_ata = heart.thalach[heart.cp == 'atypical angina']"
   ]
  },
  {
   "cell_type": "code",
   "execution_count": 196,
   "metadata": {},
   "outputs": [
    {
     "name": "stdout",
     "output_type": "stream",
     "text": [
      "Typical angina - average maximum heart rate during exercice: 155.96\n",
      "Asymptomatic - average maximum heart rate during exercice: 140.68\n",
      "Non-anginal pain - average maximum heart rate during exercice: 155.41\n",
      "Atypical angina - average maximum heart rate during exercice: 162.42\n"
     ]
    }
   ],
   "source": [
    "print('Typical angina - average maximum heart rate during exercice:', round(np.mean(th_typ), 2))\n",
    "print('Asymptomatic - average maximum heart rate during exercice:', round(np.mean(th_asy), 2))\n",
    "print('Non-anginal pain - average maximum heart rate during exercice:', round(np.mean(th_nan), 2))\n",
    "print('Atypical angina - average maximum heart rate during exercice:', round(np.mean(th_ata), 2))"
   ]
  },
  {
   "cell_type": "code",
   "execution_count": 220,
   "metadata": {},
   "outputs": [
    {
     "data": {
      "image/png": "[encoded data removed]",
      "text/plain": [
       "<Figure size 1080x360 with 2 Axes>"
      ]
     },
     "metadata": {
      "needs_background": "light"
     },
     "output_type": "display_data"
    }
   ],
   "source": [
    "plt.figure(figsize=(15, 5))\n",
    "plt.subplot(121)\n",
    "sns.boxplot(data=heart, x='cp', y='thalach')\n",
    "plt.xlabel('Chest pain')\n",
    "plt.title('Maximum heart rate during exercise distribution\\nper type of chest pain')\n",
    "\n",
    "plt.subplot(122)\n",
    "sns.histplot(x=th_typ, alpha = 0.4, color = 'blue', stat='density', label='typical angina')\n",
    "sns.histplot(x=th_nan, alpha = 0.4, color = 'orange', stat='density', label='asymptomatic')\n",
    "sns.histplot(x=th_ata, alpha = 0.4, color = 'green', stat='density', label='non-anginal pain')\n",
    "sns.histplot(x=th_asy, alpha = 0.4, color = 'red', stat='density', label='atypical angina')\n",
    "plt.legend()\n",
    "plt.title('Patients distribution per maximum heart rate during exercise\\nand type of chest pain (normalized distribution)')\n",
    "plt.show()"
   ]
  },
  {
   "cell_type": "markdown",
   "metadata": {},
   "source": [
    "Visual inspection points to a difference between maximum heart rate during exercise of the patients with different type of chest pain:\n",
    "* Asymptomatic patients seem to have a lower maximum heart rate during exercise than others\n",
    "* Patients with an atypical angina seem to have a higher maximum heart rate during exercise than others"
   ]
  },
  {
   "cell_type": "code",
   "execution_count": 214,
   "metadata": {},
   "outputs": [
    {
     "name": "stdout",
     "output_type": "stream",
     "text": [
      "H0: Patients with different types of pain chest or asymptomatic all have the same average thalach.        \n",
      "H1: Patients with different types of pain chest or asymptomatic do not have the same average thalach.        \n",
      "\n",
      "Parameters:        \n",
      "- Anova        \n",
      "- alpha 0.05\n",
      "\n",
      "f stat = 17.4131, crit. val = 2.6348, p = 0.0000\n",
      "\u001b[1mWe reject H0. People with different angine types do not have the same average thalach.\u001b[0m\n",
      "We will run a Tuckey test to pair-wise compare the means of the different groups of patients.\n",
      "\n",
      "\n",
      "           Multiple Comparison of Means - Tukey HSD, FWER=0.05           \n",
      "=========================================================================\n",
      "     group1           group2      meandiff p-adj   lower    upper  reject\n",
      "-------------------------------------------------------------------------\n",
      "    asymptomatic  atypical angina  21.7394  0.001  12.7439  30.735   True\n",
      "    asymptomatic non-anginal pain  14.7264  0.001    7.258 22.1948   True\n",
      "    asymptomatic   typical angina   15.276 0.0081   2.9702 27.5817   True\n",
      " atypical angina non-anginal pain   -7.013 0.2481 -16.7591   2.733  False\n",
      " atypical angina   typical angina  -6.4635 0.6069 -20.2707  7.3438  False\n",
      "non-anginal pain   typical angina   0.5495    0.9  -12.315 13.4141  False\n",
      "-------------------------------------------------------------------------\n"
     ]
    }
   ],
   "source": [
    "print('H0: Patients with different types of pain chest or asymptomatic all have the same average thalach.\\\n",
    "        \\nH1: Patients with different types of pain chest or asymptomatic do not have the same average thalach.\\\n",
    "        \\n\\nParameters:\\\n",
    "        \\n- Anova\\\n",
    "        \\n- alpha 0.05\\n')\n",
    "\n",
    "\n",
    "alpha = 0.05\n",
    "dfn = heart.cp.nunique() - 1 # nbr of groups - 1\n",
    "dfd = len(heart) - heart.cp.nunique() # total nbr of observations - nbr of groups \n",
    "\n",
    "f, pval_ano = stat.f_oneway(th_typ ,th_asy, th_nan, th_ata)\n",
    "cri_val_ano = stat.f.ppf(1-alpha, dfn, dfd)\n",
    "\n",
    "print('f stat = %.4f, crit. val = %.4f, p = %.4f' % (f, cri_val_ano, pval_ano))\n",
    "\n",
    "if f > cri_val_ano and pval_ano < alpha:\n",
    "    print('\\033[1mWe reject H0. People with different angine types do not have the same average thalach.\\033[0m')\n",
    "    print('We will run a Tuckey test to pair-wise compare the means of the different groups of patients.\\n\\n')\n",
    "else:\n",
    "    print('We cannot reject H0.\\n')\n",
    "\n",
    "tukey_res = multicomp.pairwise_tukeyhsd(heart.thalach, heart.cp, 0.05)\n",
    "print(tukey_res)"
   ]
  },
  {
   "cell_type": "markdown",
   "metadata": {},
   "source": [
    "#### Results  \n",
    "The Tuckey test indicates that:\n",
    "1. The avg maximum heart rate during exercise of patients with an `atypical angina` is significantly higher than the one from `asymptomatic` patients\n",
    "2. The avg maximum heart rate during exercise of patients with a `non-anginal pain` is significantly higher than the one from `asymptomatic` patients\n",
    "3. The avg maximum heart rate during exercise of patients with a `typical angina` is significantly higher than the one from `asymptomatic` patients\n",
    "4. The avg maximum heart rate during exercise of patients from the `atypical angina`, `typical` and `non-anginal pain` groups are not significantly different from each others"
   ]
  }
 ],
 "metadata": {
  "kernelspec": {
   "display_name": "Python 3",
   "language": "python",
   "name": "python3"
  },
  "language_info": {
   "codemirror_mode": {
    "name": "ipython",
    "version": 3
   },
   "file_extension": ".py",
   "mimetype": "text/x-python",
   "name": "python",
   "nbconvert_exporter": "python",
   "pygments_lexer": "ipython3",
   "version": "3.8.5"
  }
 },
 "nbformat": 4,
 "nbformat_minor": 4
}
